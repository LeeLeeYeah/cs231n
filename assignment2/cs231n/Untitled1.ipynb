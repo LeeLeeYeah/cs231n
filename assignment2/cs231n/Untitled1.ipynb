{
 "cells": [
  {
   "cell_type": "code",
   "execution_count": 4,
   "metadata": {
    "collapsed": false
   },
   "outputs": [
    {
     "name": "stdout",
     "output_type": "stream",
     "text": [
      "[[0 1 2]\n",
      " [3 4 5]\n",
      " [6 7 8]]\n",
      "8\n"
     ]
    }
   ],
   "source": [
    "import numpy as np\n",
    "\n",
    "a = np.arange(9).reshape((3,3))\n",
    "print a\n",
    "\n",
    "index = np.argmax(a)\n",
    "print index"
   ]
  },
  {
   "cell_type": "code",
   "execution_count": 1,
   "metadata": {
    "collapsed": false
   },
   "outputs": [
    {
     "name": "stdout",
     "output_type": "stream",
     "text": [
      "[  1.00000000e-04   1.62377674e-04   2.63665090e-04   4.28133240e-04\n",
      "   6.95192796e-04   1.12883789e-03   1.83298071e-03   2.97635144e-03\n",
      "   4.83293024e-03   7.84759970e-03   1.27427499e-02   2.06913808e-02\n",
      "   3.35981829e-02   5.45559478e-02   8.85866790e-02   1.43844989e-01\n",
      "   2.33572147e-01   3.79269019e-01   6.15848211e-01   1.00000000e+00]\n"
     ]
    }
   ],
   "source": [
    "import numpy as np\n",
    "\n",
    "weight_scales = np.logspace(-4, 0, num=20)\n",
    "\n",
    "print weight_scales\n"
   ]
  }
 ],
 "metadata": {
  "kernelspec": {
   "display_name": "Python 2",
   "language": "python",
   "name": "python2"
  },
  "language_info": {
   "codemirror_mode": {
    "name": "ipython",
    "version": 2
   },
   "file_extension": ".py",
   "mimetype": "text/x-python",
   "name": "python",
   "nbconvert_exporter": "python",
   "pygments_lexer": "ipython2",
   "version": "2.7.6"
  }
 },
 "nbformat": 4,
 "nbformat_minor": 1
}
