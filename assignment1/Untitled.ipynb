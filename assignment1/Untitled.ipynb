{
 "cells": [
  {
   "cell_type": "code",
   "execution_count": 41,
   "metadata": {
    "collapsed": false
   },
   "outputs": [
    {
     "name": "stdout",
     "output_type": "stream",
     "text": [
      "[-3 -3 -3]\n",
      "[-6 -6 -6]\n",
      "[0 0 0]\n",
      "[0 0 0]\n",
      "[-3 -3 -3]\n",
      "[0 0 0]\n",
      "[-3 -3 -3]\n",
      "[3 3 3]\n",
      "[3 3 3]\n",
      "[0 0 0]\n",
      "[3 3 3]\n",
      "[0 0 0]\n",
      "[6 6 6]\n",
      "[6 6 6]\n",
      "[3 3 3]\n",
      "[[  5.19615242  10.39230485   0.           0.           5.19615242]\n",
      " [  0.           5.19615242   5.19615242   5.19615242   0.        ]\n",
      " [  5.19615242   0.          10.39230485  10.39230485   5.19615242]]\n",
      "[[1 2 3]\n",
      " [1 2 3]\n",
      " [1 2 3]\n",
      " [1 2 3]\n",
      " [1 2 3]]\n"
     ]
    }
   ],
   "source": [
    "import numpy as np\n",
    "\n",
    "test = np.array([[1,2,3],[4,5,6],[7,8,9]])\n",
    "train = np.array([[4,5,6],[7,8,9],[1,2,3],[1,2,3],[4,5,6]])\n",
    "\n",
    "num_test = test.shape[0]\n",
    "num_train = train.shape[0]\n",
    "\n",
    "dists = np.zeros((num_test,num_train))\n",
    "for i in xrange(num_test):\n",
    "    for j in xrange(num_train):\n",
    "        tmp = test[i,:] - train[j,:]\n",
    "        print tmp\n",
    "        dists[i,j] = np.sqrt(np.dot(tmp,tmp));\n",
    "        \n",
    "print dists\n",
    "\n",
    "v = np.tile(test[0,:], [num_train,1])\n",
    "print v"
   ]
  },
  {
   "cell_type": "code",
   "execution_count": 70,
   "metadata": {
    "collapsed": false
   },
   "outputs": [
    {
     "name": "stdout",
     "output_type": "stream",
     "text": [
      "[[0 1 2]\n",
      " [3 4 5]]\n",
      "[[1 2]\n",
      " [4 5]]\n"
     ]
    }
   ],
   "source": [
    "a = np.arange(6)\n",
    "\n",
    "a = a.reshape([2,3])\n",
    "print a \n",
    "\n",
    "idx = [1,2]\n",
    "\n",
    "print a[:,idx]"
   ]
  },
  {
   "cell_type": "code",
   "execution_count": 86,
   "metadata": {
    "collapsed": false
   },
   "outputs": [
    {
     "name": "stdout",
     "output_type": "stream",
     "text": [
      "[[0 1]\n",
      " [2 3]\n",
      " [4 5]]\n",
      "[[1 2]\n",
      " [3 4]\n",
      " [5 6]]\n"
     ]
    }
   ],
   "source": [
    "from collections import Counter\n",
    "\n",
    "a = np.arange(6).reshape([3,2])\n",
    "print a\n",
    "\n",
    "b = np.array([1,1])\n",
    "print a+b"
   ]
  },
  {
   "cell_type": "code",
   "execution_count": 99,
   "metadata": {
    "collapsed": false
   },
   "outputs": [
    {
     "name": "stdout",
     "output_type": "stream",
     "text": [
      "[ 1  0 -2]\n"
     ]
    }
   ],
   "source": [
    "a = np.array([[1,2,3], [1, 0, -1], [-2,-2,-2]])\n",
    "b = [0,1,2]\n",
    "\n",
    "print a[np.arange(3),b]"
   ]
  },
  {
   "cell_type": "code",
   "execution_count": 126,
   "metadata": {
    "collapsed": false
   },
   "outputs": [
    {
     "name": "stdout",
     "output_type": "stream",
     "text": [
      "[0 3 4]\n",
      "[[ 0  2  3  4]\n",
      " [ 5  8  7  8]\n",
      " [ 9 10 14 12]]\n",
      "(3,)\n",
      "[[  0   2   3   4]\n",
      " [  5  -8   7   8]\n",
      " [  9  10 -14  12]]\n",
      "[[ 0  2  3  4]\n",
      " [ 5  0  7  8]\n",
      " [ 9 10  0 12]]\n"
     ]
    }
   ],
   "source": [
    "def svm_loss_vectorized(W, X, y, reg):\n",
    "  \"\"\"\n",
    "  Structured SVM loss function, vectorized implementation.\n",
    "\n",
    "  Inputs and outputs are the same as svm_loss_naive.\n",
    "  \"\"\"\n",
    "  loss = 0.0\n",
    "  dW = np.zeros(W.shape) # initialize the gradient as zero\n",
    "  num_trains = X.shape[0]\n",
    "  print num_trains\n",
    "  #############################################################################\n",
    "  # TODO:                                                                     #\n",
    "  # Implement a vectorized version of the structured SVM loss, storing the    #\n",
    "  # result in loss.                                                           #\n",
    "  #############################################################################\n",
    "  scores = X.dot(W)\n",
    "  print scores\n",
    "  tmp = np.matrix(scores[np.arange(num_trains),y])\n",
    "  print tmp\n",
    "  print tmp.T.shape\n",
    "  print scores.shape\n",
    "  subs = scores - tmp.T + 1\n",
    "  print subs\n",
    "  loss = np.sum(subs[subs > 0])\n",
    "  print loss\n",
    "  loss = loss/num_trains\n",
    "  print loss\n",
    "  #############################################################################\n",
    "  #                             END OF YOUR CODE                              #\n",
    "  #############################################################################\n",
    "\n",
    "X = np.array([[1,2,3,4],[5,6,7,8],[9,10,11,12]])\n",
    "W = np.ones([4,3])\n",
    "y = [0,1,2]\n",
    "\n",
    "\n",
    "print np.sum(X>5,axis=1)\n",
    "\n",
    "X[np.arange(3),[0,1,2]] += np.sum(X>5,axis=1) -1\n",
    "print X\n",
    "print X[np.arange(3),y].shape\n",
    "X[np.arange(3),y] *= (-1)\n",
    "print X\n",
    "\n",
    "print np.maximum(X,0)"
   ]
  }
 ],
 "metadata": {
  "kernelspec": {
   "display_name": "Python 2",
   "language": "python",
   "name": "python2"
  },
  "language_info": {
   "codemirror_mode": {
    "name": "ipython",
    "version": 2
   },
   "file_extension": ".py",
   "mimetype": "text/x-python",
   "name": "python",
   "nbconvert_exporter": "python",
   "pygments_lexer": "ipython2",
   "version": "2.7.6"
  }
 },
 "nbformat": 4,
 "nbformat_minor": 1
}
